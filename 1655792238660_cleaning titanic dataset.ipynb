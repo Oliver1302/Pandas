{
 "cells": [
  {
   "cell_type": "code",
   "execution_count": 9,
   "id": "7e6012e1",
   "metadata": {},
   "outputs": [],
   "source": [
    "import pandas as pd\n",
    "import matplotlib.pyplot as plt\n",
    "import seaborn as sns"
   ]
  },
  {
   "cell_type": "code",
   "execution_count": 10,
   "id": "197b6f04",
   "metadata": {},
   "outputs": [],
   "source": [
    "titanics=pd.read_csv(\"Titanic_Research_v6.csv\",sep= \";\") # we use sep bcoz the csv file is separated by semicolon.\n",
    "#clean titanics as pandas cat presentation is after machine learning."
   ]
  },
  {
   "cell_type": "code",
   "execution_count": 11,
   "id": "db5dd62f",
   "metadata": {},
   "outputs": [
    {
     "data": {
      "text/plain": [
       "Index(['pclass', 'survived', 'name', 'sex', 'age', 'sibsp', 'parch', 'ticket',\n",
       "       'fare', 'cabin', 'embarked', 'boat', 'body', 'home.dest'],\n",
       "      dtype='object')"
      ]
     },
     "execution_count": 11,
     "metadata": {},
     "output_type": "execute_result"
    }
   ],
   "source": [
    "titanics.columns"
   ]
  },
  {
   "cell_type": "code",
   "execution_count": 12,
   "id": "d4d5505b",
   "metadata": {},
   "outputs": [
    {
     "data": {
      "text/plain": [
       "pclass          0\n",
       "survived        0\n",
       "name            0\n",
       "sex             0\n",
       "age             9\n",
       "sibsp           1\n",
       "parch           0\n",
       "ticket          0\n",
       "fare            1\n",
       "cabin        1014\n",
       "embarked        2\n",
       "boat          823\n",
       "body         1188\n",
       "home.dest       6\n",
       "dtype: int64"
      ]
     },
     "execution_count": 12,
     "metadata": {},
     "output_type": "execute_result"
    }
   ],
   "source": [
    "titanics.isnull().sum()"
   ]
  },
  {
   "cell_type": "markdown",
   "id": "7e6a486e",
   "metadata": {},
   "source": [
    "# The home.dest attribute has too few existing values, the boat attribute is only present for passengers who have survived,and the body attribute is only for passengers who have not survived.We will discard these three columnslater on while using the data schema."
   ]
  },
  {
   "cell_type": "code",
   "execution_count": 13,
   "id": "f09a9e5a",
   "metadata": {},
   "outputs": [],
   "source": [
    "#titanics.drop(['home.dest'], axis = 1, inplace = True)\n",
    "del titanics['home.dest']"
   ]
  },
  {
   "cell_type": "code",
   "execution_count": 14,
   "id": "2fdb03d9",
   "metadata": {},
   "outputs": [],
   "source": [
    "#titanics.drop(['boat'], axis = 1, inplace = True)\n",
    "del titanics['boat']"
   ]
  },
  {
   "cell_type": "code",
   "execution_count": 15,
   "id": "0a698744",
   "metadata": {},
   "outputs": [],
   "source": [
    "#titanics.drop(['body'], axis = 1, inplace = True)\n",
    "del titanics['body']"
   ]
  },
  {
   "cell_type": "code",
   "execution_count": 16,
   "id": "57d9eb54",
   "metadata": {},
   "outputs": [
    {
     "data": {
      "text/plain": [
       "Index(['pclass', 'survived', 'name', 'sex', 'age', 'sibsp', 'parch', 'ticket',\n",
       "       'fare', 'cabin', 'embarked'],\n",
       "      dtype='object')"
      ]
     },
     "execution_count": 16,
     "metadata": {},
     "output_type": "execute_result"
    }
   ],
   "source": [
    "titanics.columns"
   ]
  },
  {
   "cell_type": "code",
   "execution_count": 17,
   "id": "580c62cd",
   "metadata": {},
   "outputs": [
    {
     "data": {
      "text/html": [
       "<div>\n",
       "<style scoped>\n",
       "    .dataframe tbody tr th:only-of-type {\n",
       "        vertical-align: middle;\n",
       "    }\n",
       "\n",
       "    .dataframe tbody tr th {\n",
       "        vertical-align: top;\n",
       "    }\n",
       "\n",
       "    .dataframe thead th {\n",
       "        text-align: right;\n",
       "    }\n",
       "</style>\n",
       "<table border=\"1\" class=\"dataframe\">\n",
       "  <thead>\n",
       "    <tr style=\"text-align: right;\">\n",
       "      <th></th>\n",
       "      <th>pclass</th>\n",
       "      <th>survived</th>\n",
       "      <th>name</th>\n",
       "      <th>sex</th>\n",
       "      <th>age</th>\n",
       "      <th>sibsp</th>\n",
       "      <th>parch</th>\n",
       "      <th>ticket</th>\n",
       "      <th>fare</th>\n",
       "      <th>cabin</th>\n",
       "      <th>embarked</th>\n",
       "    </tr>\n",
       "  </thead>\n",
       "  <tbody>\n",
       "    <tr>\n",
       "      <th>0</th>\n",
       "      <td>1</td>\n",
       "      <td>1</td>\n",
       "      <td>Allen, Miss. Elisabeth Walton</td>\n",
       "      <td>female</td>\n",
       "      <td>29</td>\n",
       "      <td>0.0</td>\n",
       "      <td>0</td>\n",
       "      <td>24160</td>\n",
       "      <td>2.113.375</td>\n",
       "      <td>B5</td>\n",
       "      <td>S</td>\n",
       "    </tr>\n",
       "    <tr>\n",
       "      <th>1</th>\n",
       "      <td>1</td>\n",
       "      <td>1</td>\n",
       "      <td>Allison, Master. Hudson Trevor</td>\n",
       "      <td>male</td>\n",
       "      <td>0,92</td>\n",
       "      <td>1.0</td>\n",
       "      <td>2</td>\n",
       "      <td>113781</td>\n",
       "      <td>151.55</td>\n",
       "      <td>C22 C26</td>\n",
       "      <td>S</td>\n",
       "    </tr>\n",
       "    <tr>\n",
       "      <th>2</th>\n",
       "      <td>1</td>\n",
       "      <td>0</td>\n",
       "      <td>Allison, Miss. Helen Loraine</td>\n",
       "      <td>female</td>\n",
       "      <td>2</td>\n",
       "      <td>1.0</td>\n",
       "      <td>2</td>\n",
       "      <td>113781</td>\n",
       "      <td>151.55</td>\n",
       "      <td>C22 C26</td>\n",
       "      <td>S</td>\n",
       "    </tr>\n",
       "    <tr>\n",
       "      <th>3</th>\n",
       "      <td>1</td>\n",
       "      <td>0</td>\n",
       "      <td>Allison, Mr. Hudson Joshua Creighton</td>\n",
       "      <td>male</td>\n",
       "      <td>30</td>\n",
       "      <td>1.0</td>\n",
       "      <td>2</td>\n",
       "      <td>113781</td>\n",
       "      <td>151.55</td>\n",
       "      <td>C22 C26</td>\n",
       "      <td>S</td>\n",
       "    </tr>\n",
       "    <tr>\n",
       "      <th>4</th>\n",
       "      <td>1</td>\n",
       "      <td>0</td>\n",
       "      <td>Allison, Mrs. Hudson J C (Bessie Waldo Daniels)</td>\n",
       "      <td>female</td>\n",
       "      <td>25</td>\n",
       "      <td>1.0</td>\n",
       "      <td>2</td>\n",
       "      <td>113781</td>\n",
       "      <td>151.55</td>\n",
       "      <td>C22 C26</td>\n",
       "      <td>S</td>\n",
       "    </tr>\n",
       "    <tr>\n",
       "      <th>...</th>\n",
       "      <td>...</td>\n",
       "      <td>...</td>\n",
       "      <td>...</td>\n",
       "      <td>...</td>\n",
       "      <td>...</td>\n",
       "      <td>...</td>\n",
       "      <td>...</td>\n",
       "      <td>...</td>\n",
       "      <td>...</td>\n",
       "      <td>...</td>\n",
       "      <td>...</td>\n",
       "    </tr>\n",
       "    <tr>\n",
       "      <th>1304</th>\n",
       "      <td>3</td>\n",
       "      <td>0</td>\n",
       "      <td>Zabour, Miss. Hileni</td>\n",
       "      <td>female</td>\n",
       "      <td>16,0</td>\n",
       "      <td>1.0</td>\n",
       "      <td>0</td>\n",
       "      <td>2665</td>\n",
       "      <td>144.542</td>\n",
       "      <td>NaN</td>\n",
       "      <td>C</td>\n",
       "    </tr>\n",
       "    <tr>\n",
       "      <th>1305</th>\n",
       "      <td>3</td>\n",
       "      <td>0</td>\n",
       "      <td>Zabour, Miss. Thamine</td>\n",
       "      <td>female</td>\n",
       "      <td>19,0</td>\n",
       "      <td>1.0</td>\n",
       "      <td>0</td>\n",
       "      <td>2665</td>\n",
       "      <td>144.542</td>\n",
       "      <td>NaN</td>\n",
       "      <td>C</td>\n",
       "    </tr>\n",
       "    <tr>\n",
       "      <th>1306</th>\n",
       "      <td>3</td>\n",
       "      <td>0</td>\n",
       "      <td>Zakarian, Mr. Mapriededer</td>\n",
       "      <td>male</td>\n",
       "      <td>22,0</td>\n",
       "      <td>0.0</td>\n",
       "      <td>0</td>\n",
       "      <td>2656</td>\n",
       "      <td>7.225</td>\n",
       "      <td>NaN</td>\n",
       "      <td>C</td>\n",
       "    </tr>\n",
       "    <tr>\n",
       "      <th>1307</th>\n",
       "      <td>3</td>\n",
       "      <td>0</td>\n",
       "      <td>Zakarian, Mr. Ortin</td>\n",
       "      <td>male</td>\n",
       "      <td>27,0</td>\n",
       "      <td>0.0</td>\n",
       "      <td>0</td>\n",
       "      <td>2670</td>\n",
       "      <td>7.225</td>\n",
       "      <td>NaN</td>\n",
       "      <td>C</td>\n",
       "    </tr>\n",
       "    <tr>\n",
       "      <th>1308</th>\n",
       "      <td>3</td>\n",
       "      <td>0</td>\n",
       "      <td>Zimmerman, Mr. Leo</td>\n",
       "      <td>male</td>\n",
       "      <td>29,0</td>\n",
       "      <td>0.0</td>\n",
       "      <td>0</td>\n",
       "      <td>315082</td>\n",
       "      <td>7.875</td>\n",
       "      <td>NaN</td>\n",
       "      <td>S</td>\n",
       "    </tr>\n",
       "  </tbody>\n",
       "</table>\n",
       "<p>1309 rows × 11 columns</p>\n",
       "</div>"
      ],
      "text/plain": [
       "      pclass  survived                                             name  \\\n",
       "0          1         1                    Allen, Miss. Elisabeth Walton   \n",
       "1          1         1                   Allison, Master. Hudson Trevor   \n",
       "2          1         0                     Allison, Miss. Helen Loraine   \n",
       "3          1         0             Allison, Mr. Hudson Joshua Creighton   \n",
       "4          1         0  Allison, Mrs. Hudson J C (Bessie Waldo Daniels)   \n",
       "...      ...       ...                                              ...   \n",
       "1304       3         0                             Zabour, Miss. Hileni   \n",
       "1305       3         0                            Zabour, Miss. Thamine   \n",
       "1306       3         0                        Zakarian, Mr. Mapriededer   \n",
       "1307       3         0                              Zakarian, Mr. Ortin   \n",
       "1308       3         0                               Zimmerman, Mr. Leo   \n",
       "\n",
       "         sex   age  sibsp  parch  ticket       fare    cabin embarked  \n",
       "0     female    29    0.0      0   24160  2.113.375       B5        S  \n",
       "1       male  0,92    1.0      2  113781     151.55  C22 C26        S  \n",
       "2     female     2    1.0      2  113781     151.55  C22 C26        S  \n",
       "3       male    30    1.0      2  113781     151.55  C22 C26        S  \n",
       "4     female    25    1.0      2  113781     151.55  C22 C26        S  \n",
       "...      ...   ...    ...    ...     ...        ...      ...      ...  \n",
       "1304  female  16,0    1.0      0    2665    144.542      NaN        C  \n",
       "1305  female  19,0    1.0      0    2665    144.542      NaN        C  \n",
       "1306    male  22,0    0.0      0    2656      7.225      NaN        C  \n",
       "1307    male  27,0    0.0      0    2670      7.225      NaN        C  \n",
       "1308    male  29,0    0.0      0  315082      7.875      NaN        S  \n",
       "\n",
       "[1309 rows x 11 columns]"
      ]
     },
     "execution_count": 17,
     "metadata": {},
     "output_type": "execute_result"
    }
   ],
   "source": [
    "titanics"
   ]
  },
  {
   "cell_type": "code",
   "execution_count": 18,
   "id": "679b735f",
   "metadata": {},
   "outputs": [
    {
     "data": {
      "text/plain": [
       "pclass         0\n",
       "survived       0\n",
       "name           0\n",
       "sex            0\n",
       "age            9\n",
       "sibsp          1\n",
       "parch          0\n",
       "ticket         0\n",
       "fare           1\n",
       "cabin       1014\n",
       "embarked       2\n",
       "dtype: int64"
      ]
     },
     "execution_count": 18,
     "metadata": {},
     "output_type": "execute_result"
    }
   ],
   "source": [
    "titanics.isnull().sum()"
   ]
  },
  {
   "cell_type": "markdown",
   "id": "89852801",
   "metadata": {},
   "source": [
    "## We may want to complete Age feature as it is definitely correlated to survival.We may want to complete the Embarked feature as it may also correlate with survival or another important feature."
   ]
  },
  {
   "cell_type": "code",
   "execution_count": 19,
   "id": "587d2d26",
   "metadata": {},
   "outputs": [
    {
     "data": {
      "text/plain": [
       "'1.ticket feature may be dropped from our analysis because may not be a correlation between Ticket and survival.\\n2.Cabin feature may be dropped as it is highly incomplete or contains many null values \\n3.PassengerId may be dropped from training dataset as it does not contribute to survival.\\n\\n\\n5.We may want to create new feature for Age bands. This turns a continous numerical feature into an ordinal categorical feature.\\n6.We may also want to create a Fare range feature if it helps our analysis.'"
      ]
     },
     "execution_count": 19,
     "metadata": {},
     "output_type": "execute_result"
    }
   ],
   "source": [
    "'''1.ticket feature may be dropped from our analysis because may not be a correlation between Ticket and survival.\n",
    "2.Cabin feature may be dropped as it is highly incomplete or contains many null values \n",
    "3.PassengerId may be dropped from training dataset as it does not contribute to survival.\n",
    "\n",
    "\n",
    "5.We may want to create new feature for Age bands. This turns a continous numerical feature into an ordinal categorical feature.\n",
    "6.We may also want to create a Fare range feature if it helps our analysis.'''"
   ]
  },
  {
   "cell_type": "code",
   "execution_count": 20,
   "id": "a5d84221",
   "metadata": {},
   "outputs": [
    {
     "data": {
      "text/plain": [
       "'We may also add to our assumptions based on the problem description noted earlier.\\n\\nWomen (Sex=female) were more likely to have survived.\\nChildren (Age<?) were more likely to have survived.\\nThe upper-class passengers (Pclass=1) were more likely to have survived.'"
      ]
     },
     "execution_count": 20,
     "metadata": {},
     "output_type": "execute_result"
    }
   ],
   "source": [
    "'''We may also add to our assumptions based on the problem description noted earlier.\n",
    "\n",
    "Women (Sex=female) were more likely to have survived.\n",
    "Children (Age<?) were more likely to have survived.\n",
    "The upper-class passengers (Pclass=1) were more likely to have survived.'''"
   ]
  },
  {
   "cell_type": "code",
   "execution_count": 21,
   "id": "1a8285f1",
   "metadata": {},
   "outputs": [
    {
     "data": {
      "text/plain": [
       "Index(['pclass', 'survived', 'name', 'sex', 'age', 'sibsp', 'parch', 'ticket',\n",
       "       'fare', 'cabin', 'embarked'],\n",
       "      dtype='object')"
      ]
     },
     "execution_count": 21,
     "metadata": {},
     "output_type": "execute_result"
    }
   ],
   "source": [
    "titanics.columns"
   ]
  },
  {
   "cell_type": "code",
   "execution_count": 22,
   "id": "392e85e7",
   "metadata": {},
   "outputs": [],
   "source": [
    "del titanics['ticket']"
   ]
  },
  {
   "cell_type": "code",
   "execution_count": 23,
   "id": "069e2e76",
   "metadata": {},
   "outputs": [],
   "source": [
    "del titanics['cabin']"
   ]
  },
  {
   "cell_type": "code",
   "execution_count": 24,
   "id": "8b6c6861",
   "metadata": {},
   "outputs": [
    {
     "data": {
      "text/plain": [
       "Index(['pclass', 'survived', 'name', 'sex', 'age', 'sibsp', 'parch', 'fare',\n",
       "       'embarked'],\n",
       "      dtype='object')"
      ]
     },
     "execution_count": 24,
     "metadata": {},
     "output_type": "execute_result"
    }
   ],
   "source": [
    "titanics.columns"
   ]
  },
  {
   "cell_type": "code",
   "execution_count": 25,
   "id": "ca81a219",
   "metadata": {},
   "outputs": [
    {
     "data": {
      "text/plain": [
       "pclass      0\n",
       "survived    0\n",
       "name        0\n",
       "sex         0\n",
       "age         9\n",
       "sibsp       1\n",
       "parch       0\n",
       "fare        1\n",
       "embarked    2\n",
       "dtype: int64"
      ]
     },
     "execution_count": 25,
     "metadata": {},
     "output_type": "execute_result"
    }
   ],
   "source": [
    "titanics.isnull().sum()"
   ]
  },
  {
   "cell_type": "code",
   "execution_count": 26,
   "id": "ed8d808f",
   "metadata": {},
   "outputs": [
    {
     "name": "stdout",
     "output_type": "stream",
     "text": [
      "['Mrs.', 'L.']\n"
     ]
    }
   ],
   "source": [
    "#.We may want to engineer the Name feature to extract Title as a new feature.\n",
    "titles = []\n",
    "for i in titanics['name']:\n",
    "    split_name = i.split()#split all the names\n",
    "    name_l =[]\n",
    "    for j in split_name: #access each splitted name\n",
    "        if j[-1] == \".\": # if the last value denoted by index -1 is a full stop, print the name.\n",
    "            name_l.append(j)# add the names to the title list\n",
    "    if len(name_l)>1:\n",
    "        print(name_l)\n",
    "    titles.append(name_l[0])\n",
    "titanics['titles']=titles\n"
   ]
  },
  {
   "cell_type": "code",
   "execution_count": 27,
   "id": "88edd0cd",
   "metadata": {},
   "outputs": [
    {
     "data": {
      "text/plain": [
       "pclass      0\n",
       "survived    0\n",
       "name        0\n",
       "sex         0\n",
       "age         9\n",
       "sibsp       1\n",
       "parch       0\n",
       "fare        1\n",
       "embarked    2\n",
       "titles      0\n",
       "dtype: int64"
      ]
     },
     "execution_count": 27,
     "metadata": {},
     "output_type": "execute_result"
    }
   ],
   "source": [
    "titanics.isnull().sum()"
   ]
  },
  {
   "cell_type": "code",
   "execution_count": 28,
   "id": "0b7f5d65",
   "metadata": {},
   "outputs": [
    {
     "data": {
      "text/plain": [
       "0         29\n",
       "1       0,92\n",
       "2          2\n",
       "3         30\n",
       "4         25\n",
       "        ... \n",
       "1304    16,0\n",
       "1305    19,0\n",
       "1306    22,0\n",
       "1307    27,0\n",
       "1308    29,0\n",
       "Name: age, Length: 1309, dtype: object"
      ]
     },
     "execution_count": 28,
     "metadata": {},
     "output_type": "execute_result"
    }
   ],
   "source": [
    "titanics.age"
   ]
  },
  {
   "cell_type": "code",
   "execution_count": 29,
   "id": "a1b0363e",
   "metadata": {
    "scrolled": true
   },
   "outputs": [],
   "source": [
    "titanics['age']= titanics['age'].astype(str)"
   ]
  },
  {
   "cell_type": "code",
   "execution_count": 30,
   "id": "b7b89d04",
   "metadata": {},
   "outputs": [],
   "source": [
    "titanics['age']= titanics['age'].apply(lambda x: x.replace(',','.'))"
   ]
  },
  {
   "cell_type": "code",
   "execution_count": 31,
   "id": "a8e601f6",
   "metadata": {},
   "outputs": [],
   "source": [
    "titanics['age']= titanics['age'].astype(float)"
   ]
  },
  {
   "cell_type": "code",
   "execution_count": 32,
   "id": "2c60c3fb",
   "metadata": {},
   "outputs": [],
   "source": [
    "titanics['age'] = titanics['age'].apply(lambda x: x*100 if x < 1 else x)"
   ]
  },
  {
   "cell_type": "code",
   "execution_count": 33,
   "id": "a0212e69",
   "metadata": {},
   "outputs": [
    {
     "data": {
      "text/plain": [
       "0       29.0\n",
       "1       92.0\n",
       "2        2.0\n",
       "3       30.0\n",
       "4       25.0\n",
       "        ... \n",
       "1304    16.0\n",
       "1305    19.0\n",
       "1306    22.0\n",
       "1307    27.0\n",
       "1308    29.0\n",
       "Name: age, Length: 1309, dtype: float64"
      ]
     },
     "execution_count": 33,
     "metadata": {},
     "output_type": "execute_result"
    }
   ],
   "source": [
    "titanics['age']"
   ]
  },
  {
   "cell_type": "code",
   "execution_count": 34,
   "id": "e9ab80cf",
   "metadata": {},
   "outputs": [
    {
     "data": {
      "text/plain": [
       "pclass      0\n",
       "survived    0\n",
       "name        0\n",
       "sex         0\n",
       "age         9\n",
       "sibsp       1\n",
       "parch       0\n",
       "fare        1\n",
       "embarked    2\n",
       "titles      0\n",
       "dtype: int64"
      ]
     },
     "execution_count": 34,
     "metadata": {},
     "output_type": "execute_result"
    }
   ],
   "source": [
    "titanics.isnull().sum()"
   ]
  },
  {
   "cell_type": "code",
   "execution_count": 35,
   "id": "1e1ebadf",
   "metadata": {},
   "outputs": [
    {
     "data": {
      "text/plain": [
       "count    1300.000000\n",
       "mean       30.139538\n",
       "std        14.296903\n",
       "min         1.000000\n",
       "25%        21.000000\n",
       "50%        28.000000\n",
       "75%        38.000000\n",
       "max        92.000000\n",
       "Name: age, dtype: float64"
      ]
     },
     "execution_count": 35,
     "metadata": {},
     "output_type": "execute_result"
    }
   ],
   "source": [
    "titanics.age.describe()"
   ]
  },
  {
   "cell_type": "code",
   "execution_count": 36,
   "id": "82653a2b",
   "metadata": {},
   "outputs": [
    {
     "data": {
      "image/png": "[encoded data removed]",
      "text/plain": [
       "<Figure size 432x288 with 1 Axes>"
      ]
     },
     "metadata": {
      "needs_background": "light"
     },
     "output_type": "display_data"
    }
   ],
   "source": [
    "ax = titanics[\"age\"].hist(bins=15, density=True, stacked=True, color='blue', alpha=0.6)\n",
    "titanics[\"age\"].plot(kind='density', color='brown')\n",
    "ax.set(xlabel='Age')\n",
    "plt.xlim(-10,90)\n",
    "plt.show()\n",
    "# data is skewed to the left. filling in na values with mean will be inappropriate"
   ]
  },
  {
   "cell_type": "code",
   "execution_count": 37,
   "id": "508a6f82",
   "metadata": {},
   "outputs": [
    {
     "name": "stderr",
     "output_type": "stream",
     "text": [
      "C:\\Users\\HP\\anaconda3\\lib\\site-packages\\seaborn\\_decorators.py:36: FutureWarning: Pass the following variable as a keyword arg: x. From version 0.12, the only valid positional argument will be `data`, and passing other arguments without an explicit keyword will result in an error or misinterpretation.\n",
      "  warnings.warn(\n"
     ]
    },
    {
     "data": {
      "image/png": "[encoded data removed]",
      "text/plain": [
       "<Figure size 432x288 with 1 Axes>"
      ]
     },
     "metadata": {
      "needs_background": "light"
     },
     "output_type": "display_data"
    }
   ],
   "source": [
    "sns.boxplot(titanics['age']);\n",
    "#age mean is biased since data is skewed"
   ]
  },
  {
   "cell_type": "code",
   "execution_count": 38,
   "id": "01055228",
   "metadata": {},
   "outputs": [
    {
     "data": {
      "text/plain": [
       "28.0"
      ]
     },
     "execution_count": 38,
     "metadata": {},
     "output_type": "execute_result"
    }
   ],
   "source": [
    "titanics['age'].median()"
   ]
  },
  {
   "cell_type": "code",
   "execution_count": 39,
   "id": "10574cd9",
   "metadata": {},
   "outputs": [],
   "source": [
    "titanics['age'].fillna(titanics[\"age\"].median(skipna=True), inplace= True)"
   ]
  },
  {
   "cell_type": "code",
   "execution_count": 40,
   "id": "f33ad147",
   "metadata": {},
   "outputs": [
    {
     "data": {
      "text/plain": [
       "pclass      0\n",
       "survived    0\n",
       "name        0\n",
       "sex         0\n",
       "age         0\n",
       "sibsp       1\n",
       "parch       0\n",
       "fare        1\n",
       "embarked    2\n",
       "titles      0\n",
       "dtype: int64"
      ]
     },
     "execution_count": 40,
     "metadata": {},
     "output_type": "execute_result"
    }
   ],
   "source": [
    "titanics.isnull().sum()"
   ]
  },
  {
   "cell_type": "code",
   "execution_count": 41,
   "id": "637ae569",
   "metadata": {},
   "outputs": [
    {
     "data": {
      "text/plain": [
       "0       2.113.375\n",
       "1          151.55\n",
       "2          151.55\n",
       "3          151.55\n",
       "4          151.55\n",
       "          ...    \n",
       "1304      144.542\n",
       "1305      144.542\n",
       "1306        7.225\n",
       "1307        7.225\n",
       "1308        7.875\n",
       "Name: fare, Length: 1309, dtype: object"
      ]
     },
     "execution_count": 41,
     "metadata": {},
     "output_type": "execute_result"
    }
   ],
   "source": [
    "titanics.fare"
   ]
  },
  {
   "cell_type": "code",
   "execution_count": 42,
   "id": "7dfa3851",
   "metadata": {},
   "outputs": [],
   "source": [
    "titanics[\"embarked\"].fillna(titanics[\"embarked\"].value_counts().idxmax(), inplace=True)\n",
    "#filling embarked with mode since it is categorical column"
   ]
  },
  {
   "cell_type": "code",
   "execution_count": 43,
   "id": "787f2ef1",
   "metadata": {},
   "outputs": [],
   "source": [
    "titanics['fare'] = titanics['fare'].astype(str)"
   ]
  },
  {
   "cell_type": "code",
   "execution_count": 44,
   "id": "faa9b140",
   "metadata": {},
   "outputs": [],
   "source": [
    "titanics['fare'] =titanics['fare'].apply(lambda x: x.replace('.',',',1))"
   ]
  },
  {
   "cell_type": "code",
   "execution_count": 45,
   "id": "4b4cacd4",
   "metadata": {},
   "outputs": [
    {
     "data": {
      "text/plain": [
       "0       2,113.375\n",
       "1          151,55\n",
       "2          151,55\n",
       "3          151,55\n",
       "4          151,55\n",
       "          ...    \n",
       "1304      144,542\n",
       "1305      144,542\n",
       "1306        7,225\n",
       "1307        7,225\n",
       "1308        7,875\n",
       "Name: fare, Length: 1309, dtype: object"
      ]
     },
     "execution_count": 45,
     "metadata": {},
     "output_type": "execute_result"
    }
   ],
   "source": [
    "titanics['fare']"
   ]
  },
  {
   "cell_type": "code",
   "execution_count": 46,
   "id": "ff498a3e",
   "metadata": {},
   "outputs": [],
   "source": [
    "titanics[\"fare\"] = [float(str(i).replace(\",\", \"\")) for i in titanics[\"fare\"]]"
   ]
  },
  {
   "cell_type": "code",
   "execution_count": 47,
   "id": "8466454e",
   "metadata": {},
   "outputs": [],
   "source": [
    "titanics['fare'] = titanics['fare'].astype(float)"
   ]
  },
  {
   "cell_type": "code",
   "execution_count": 48,
   "id": "438da486",
   "metadata": {},
   "outputs": [
    {
     "data": {
      "text/plain": [
       "0         2113.375\n",
       "1        15155.000\n",
       "2        15155.000\n",
       "3        15155.000\n",
       "4        15155.000\n",
       "           ...    \n",
       "1304    144542.000\n",
       "1305    144542.000\n",
       "1306      7225.000\n",
       "1307      7225.000\n",
       "1308      7875.000\n",
       "Name: fare, Length: 1309, dtype: float64"
      ]
     },
     "execution_count": 48,
     "metadata": {},
     "output_type": "execute_result"
    }
   ],
   "source": [
    "titanics['fare']"
   ]
  },
  {
   "cell_type": "code",
   "execution_count": 49,
   "id": "bea214b8",
   "metadata": {},
   "outputs": [
    {
     "data": {
      "text/plain": [
       "count      1308.000000\n",
       "mean      75056.963972\n",
       "std      163516.338201\n",
       "min           0.000000\n",
       "25%         161.000000\n",
       "50%        2115.000000\n",
       "75%       78542.000000\n",
       "max      910792.000000\n",
       "Name: fare, dtype: float64"
      ]
     },
     "execution_count": 49,
     "metadata": {},
     "output_type": "execute_result"
    }
   ],
   "source": [
    "titanics['fare'].describe()"
   ]
  },
  {
   "cell_type": "code",
   "execution_count": 50,
   "id": "885aab9d",
   "metadata": {},
   "outputs": [
    {
     "name": "stderr",
     "output_type": "stream",
     "text": [
      "C:\\Users\\HP\\anaconda3\\lib\\site-packages\\seaborn\\_decorators.py:36: FutureWarning: Pass the following variable as a keyword arg: x. From version 0.12, the only valid positional argument will be `data`, and passing other arguments without an explicit keyword will result in an error or misinterpretation.\n",
      "  warnings.warn(\n"
     ]
    },
    {
     "data": {
      "image/png": "[encoded data removed]",
      "text/plain": [
       "<Figure size 432x288 with 1 Axes>"
      ]
     },
     "metadata": {
      "needs_background": "light"
     },
     "output_type": "display_data"
    }
   ],
   "source": [
    "sns.boxplot(titanics['fare']);\n",
    "#presence of many outliers means we will not fill na using mean."
   ]
  },
  {
   "cell_type": "code",
   "execution_count": 51,
   "id": "c571db58",
   "metadata": {},
   "outputs": [
    {
     "data": {
      "text/plain": [
       "2115.0"
      ]
     },
     "execution_count": 51,
     "metadata": {},
     "output_type": "execute_result"
    }
   ],
   "source": [
    "titanics['fare'].median()"
   ]
  },
  {
   "cell_type": "code",
   "execution_count": 52,
   "id": "e639f2a6",
   "metadata": {},
   "outputs": [],
   "source": [
    "titanics['fare'].fillna(titanics['fare'].median(skipna=True), inplace = True)"
   ]
  },
  {
   "cell_type": "code",
   "execution_count": 53,
   "id": "dc73d14e",
   "metadata": {},
   "outputs": [
    {
     "data": {
      "text/plain": [
       "pclass      0\n",
       "survived    0\n",
       "name        0\n",
       "sex         0\n",
       "age         0\n",
       "sibsp       1\n",
       "parch       0\n",
       "fare        0\n",
       "embarked    0\n",
       "titles      0\n",
       "dtype: int64"
      ]
     },
     "execution_count": 53,
     "metadata": {},
     "output_type": "execute_result"
    }
   ],
   "source": [
    "titanics.isnull().sum()"
   ]
  },
  {
   "cell_type": "code",
   "execution_count": 54,
   "id": "efd0bf0c",
   "metadata": {},
   "outputs": [
    {
     "data": {
      "text/plain": [
       "0       0.0\n",
       "1       1.0\n",
       "2       1.0\n",
       "3       1.0\n",
       "4       1.0\n",
       "       ... \n",
       "1304    1.0\n",
       "1305    1.0\n",
       "1306    0.0\n",
       "1307    0.0\n",
       "1308    0.0\n",
       "Name: sibsp, Length: 1309, dtype: float64"
      ]
     },
     "execution_count": 54,
     "metadata": {},
     "output_type": "execute_result"
    }
   ],
   "source": [
    "titanics.sibsp"
   ]
  },
  {
   "cell_type": "code",
   "execution_count": 55,
   "id": "135950f8",
   "metadata": {},
   "outputs": [
    {
     "name": "stderr",
     "output_type": "stream",
     "text": [
      "C:\\Users\\HP\\anaconda3\\lib\\site-packages\\seaborn\\_decorators.py:36: FutureWarning: Pass the following variable as a keyword arg: x. From version 0.12, the only valid positional argument will be `data`, and passing other arguments without an explicit keyword will result in an error or misinterpretation.\n",
      "  warnings.warn(\n"
     ]
    },
    {
     "data": {
      "image/png": "[encoded data removed]",
      "text/plain": [
       "<Figure size 432x288 with 1 Axes>"
      ]
     },
     "metadata": {
      "needs_background": "light"
     },
     "output_type": "display_data"
    }
   ],
   "source": [
    "sns.boxplot(titanics['sibsp']);\n",
    "# we will use median to fill in since the data is skewed i.e mean is biased"
   ]
  },
  {
   "cell_type": "code",
   "execution_count": 56,
   "id": "3e075129",
   "metadata": {},
   "outputs": [
    {
     "data": {
      "text/plain": [
       "0.0"
      ]
     },
     "execution_count": 56,
     "metadata": {},
     "output_type": "execute_result"
    }
   ],
   "source": [
    "titanics['sibsp'].median()"
   ]
  },
  {
   "cell_type": "code",
   "execution_count": 57,
   "id": "e954bbfe",
   "metadata": {},
   "outputs": [],
   "source": [
    "titanics['sibsp'].fillna(titanics['sibsp'].median(skipna=True), inplace= True)"
   ]
  },
  {
   "cell_type": "code",
   "execution_count": 58,
   "id": "31dd8dc3",
   "metadata": {},
   "outputs": [
    {
     "name": "stdout",
     "output_type": "stream",
     "text": [
      "<class 'pandas.core.frame.DataFrame'>\n",
      "RangeIndex: 1309 entries, 0 to 1308\n",
      "Data columns (total 10 columns):\n",
      " #   Column    Non-Null Count  Dtype  \n",
      "---  ------    --------------  -----  \n",
      " 0   pclass    1309 non-null   int64  \n",
      " 1   survived  1309 non-null   int64  \n",
      " 2   name      1309 non-null   object \n",
      " 3   sex       1309 non-null   object \n",
      " 4   age       1309 non-null   float64\n",
      " 5   sibsp     1309 non-null   float64\n",
      " 6   parch     1309 non-null   int64  \n",
      " 7   fare      1309 non-null   float64\n",
      " 8   embarked  1309 non-null   object \n",
      " 9   titles    1309 non-null   object \n",
      "dtypes: float64(3), int64(3), object(4)\n",
      "memory usage: 102.4+ KB\n"
     ]
    }
   ],
   "source": [
    "titanics.info()"
   ]
  },
  {
   "cell_type": "code",
   "execution_count": 59,
   "id": "4ba1620e",
   "metadata": {},
   "outputs": [],
   "source": [
    "titanics.to_csv(\"StarWars.csv\")"
   ]
  },
  {
   "cell_type": "code",
   "execution_count": null,
   "id": "a5f6848a",
   "metadata": {},
   "outputs": [],
   "source": []
  }
 ],
 "metadata": {
  "kernelspec": {
   "display_name": "Python 3",
   "language": "python",
   "name": "python3"
  },
  "language_info": {
   "codemirror_mode": {
    "name": "ipython",
    "version": 3
   },
   "file_extension": ".py",
   "mimetype": "text/x-python",
   "name": "python",
   "nbconvert_exporter": "python",
   "pygments_lexer": "ipython3",
   "version": "3.8.8"
  }
 },
 "nbformat": 4,
 "nbformat_minor": 5
}
